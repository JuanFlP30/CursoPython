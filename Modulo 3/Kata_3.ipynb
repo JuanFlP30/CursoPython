{
 "cells": [
  {
   "cell_type": "markdown",
   "metadata": {},
   "source": [
    "Ejercicio 1 - Asteroide"
   ]
  },
  {
   "cell_type": "code",
   "execution_count": 2,
   "metadata": {},
   "outputs": [
    {
     "name": "stdout",
     "output_type": "stream",
     "text": [
      "¡Alerta! ¡Un asteroide se acerca muy rápido!\n"
     ]
    }
   ],
   "source": [
    "asteroideVelocida = 49\n",
    "\n",
    "if asteroideVelocida < 25:\n",
    "    print(\"Sigue con tú día\")\n",
    "else:\n",
    "    print(\"¡Alerta! ¡Un asteroide se acerca muy rápido!\")"
   ]
  },
  {
   "cell_type": "markdown",
   "metadata": {},
   "source": [
    "Ejercicio 2 - Asteroide entra a la Tierra"
   ]
  },
  {
   "cell_type": "code",
   "execution_count": 5,
   "metadata": {},
   "outputs": [
    {
     "name": "stdout",
     "output_type": "stream",
     "text": [
      "Sigue con tu día\n"
     ]
    }
   ],
   "source": [
    "asteroide = 19\n",
    "\n",
    "if asteroide > 25:\n",
    "    print(\"¡Podras ver un asteroide muy pronto!\")\n",
    "elif asteroide > 20:\n",
    "    print(\"¡Podras ver un asteroide muy pronto!\")\n",
    "else:\n",
    "    print(\"Sigue con tu día\")"
   ]
  },
  {
   "cell_type": "markdown",
   "metadata": {},
   "source": [
    "Ejercicio 3 "
   ]
  },
  {
   "cell_type": "code",
   "execution_count": null,
   "metadata": {},
   "outputs": [],
   "source": [
    "velocidad_asteroide = 25\n",
    "tamano_asteroide = 40\n",
    "if velocidad_asteroide > 25 and tamano_asteroide > 25:\n",
    "    print('¡Alerta, Un asteroide muy peligroso viene hacia la Tierra!')\n",
    "elif velocidad_asteroide >= 20:\n",
    "    print('Look up! ¡Hay una luz mágica en el cielo!')\n",
    "elif tamano_asteroide < 25:\n",
    "    print('Nada que ver aquí :)')\n",
    "else:\n",
    "    print('Nada que ver aquí :)')"
   ]
  }
 ],
 "metadata": {
  "interpreter": {
   "hash": "0562ded785a97ee740ed1e3ce555ab7f19c413f8e825f61a3e84df122e757ef3"
  },
  "kernelspec": {
   "display_name": "Python 3.9.10 64-bit (windows store)",
   "language": "python",
   "name": "python3"
  },
  "language_info": {
   "codemirror_mode": {
    "name": "ipython",
    "version": 3
   },
   "file_extension": ".py",
   "mimetype": "text/x-python",
   "name": "python",
   "nbconvert_exporter": "python",
   "pygments_lexer": "ipython3",
   "version": "3.9.10"
  },
  "orig_nbformat": 4
 },
 "nbformat": 4,
 "nbformat_minor": 2
}
